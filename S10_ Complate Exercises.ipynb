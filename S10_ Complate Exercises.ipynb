{
 "cells": [
  {
   "cell_type": "code",
   "execution_count": null,
   "metadata": {},
   "outputs": [],
   "source": [
    "#1\n",
    "with open ('D:\\Coading\\Lesson\\python\\Python_2\\Session_10\\Exercises\\Exercise_01\\Text_01.txt' , 'r') as File :\n",
    "    Read_File = File.read()\n",
    "\n",
    "with open('D:\\Coading\\Lesson\\python\\Python_2\\Session_10\\Exercises\\Exercise_01\\Text_02.txt' , 'w') as New_File :\n",
    "    Write_File = New_File.write(Read_File)\n",
    "\n",
    "print(New_File)"
   ]
  },
  {
   "cell_type": "code",
   "execution_count": null,
   "metadata": {},
   "outputs": [],
   "source": [
    "#2\n",
    "def replace_word (file_name,spetial_word,new_word) :\n",
    "    with open (file_name , 'r') as file :\n",
    "        read_File = file.read()\n",
    "    read_File = read_File.replace(spetial_word , new_word)\n",
    "\n",
    "    with open (file_name , 'w') as file :\n",
    "        write_file = file.write(read_File)\n",
    "\n",
    "replace_word('D:\\Coading\\Lesson\\python\\Python_2\\Session_10\\Exercises\\Exercise_02\\Text_01.txt' , 'Programer' , 'cook')"
   ]
  },
  {
   "cell_type": "code",
   "execution_count": null,
   "metadata": {},
   "outputs": [],
   "source": [
    "#3\n",
    "import random\n",
    "list_1 = []\n",
    "\n",
    "for item in range (10) :\n",
    "    list_1.append(random.randint(1,100))\n",
    "\n",
    "list_even = []\n",
    "for i in list_1 :\n",
    "     if i % 2 == 0  :\n",
    "          list_even.append(i)\n",
    "\n",
    "list_odd = []\n",
    "for j in list_1 :\n",
    "     if j % 2 != 0  :\n",
    "          list_odd.append(j)\n",
    "\n",
    "print(f'Real list : {list_1}\\nodd list : {list_odd}\\neven list : {list_even}')\n"
   ]
  },
  {
   "cell_type": "code",
   "execution_count": null,
   "metadata": {},
   "outputs": [],
   "source": [
    "#4\n",
    "list_1 = [item for item in range (101)  if (item % 5 == 0) or (item % 6 == 0) ]\n",
    "print(list_1)"
   ]
  },
  {
   "cell_type": "code",
   "execution_count": null,
   "metadata": {},
   "outputs": [],
   "source": [
    "#5"
   ]
  },
  {
   "cell_type": "code",
   "execution_count": null,
   "metadata": {},
   "outputs": [],
   "source": [
    "#6\n",
    "def read_line(file_name, n) :\n",
    "    with open(file_name , 'r') as file :\n",
    "        lines = file.readlines()\n",
    "        return lines[-n:] \n",
    "retrn = read_line('D:\\Coading\\Lesson\\python\\Python_2\\Session_10\\Exercises\\Exercise_06\\Text_01.txt', 1)\n",
    "for line in retrn :\n",
    "    print(line.strip())\n"
   ]
  },
  {
   "cell_type": "code",
   "execution_count": null,
   "metadata": {},
   "outputs": [],
   "source": [
    "#7\n",
    "def read_line(file_name, n) :\n",
    "    with open(file_name , 'r') as file :\n",
    "        lines = file.readlines()\n",
    "        return lines[:n] \n",
    "retrn = read_line('D:\\Coading\\Lesson\\python\\Python_2\\Session_10\\Exercises\\Exercise_06\\Text_01.txt', 1)\n",
    "for line in retrn :\n",
    "    print(line.strip())\n"
   ]
  }
 ],
 "metadata": {
  "language_info": {
   "name": "python"
  }
 },
 "nbformat": 4,
 "nbformat_minor": 2
}
