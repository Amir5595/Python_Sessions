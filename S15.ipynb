{
 "cells": [
  {
   "cell_type": "code",
   "execution_count": 1,
   "metadata": {},
   "outputs": [
    {
     "name": "stdout",
     "output_type": "stream",
     "text": [
      "Data Inserted in the table: \n",
      "('1', 'Amir', '14', 'Perfect')\n"
     ]
    }
   ],
   "source": [
    "#1\n",
    "import sqlite3\n",
    "con = sqlite3.connect('Student.db')\n",
    "cur = con.cursor()\n",
    "cur.execute('''CREATE TABLE IF NOT EXISTS students\n",
    "             (id INTEGER PRIMARY KEY AUTOINCREMENT,\n",
    "             name TEXT NOT NULL,\n",
    "             age INTEGER NOT NULL,\n",
    "             grade TEXT NOT NULL)''')\n",
    "\n",
    "cur . execute (''' INSERT INTO customer VALUES ('1' , 'Amir' , '14' , 'Perfect')''' )\n",
    "\n",
    "con.commit()\n",
    "con.close()\n",
    "\n",
    "print(\"Data Inserted in the table: \") \n",
    "data = cur.execute('''SELECT * FROM customer''') \n",
    "for row in data: \n",
    "    print(row) "
   ]
  },
  {
   "cell_type": "code",
   "execution_count": 9,
   "metadata": {},
   "outputs": [],
   "source": [
    "#2\n",
    "import sqlite3\n",
    "con = sqlite3.connect('Student.db')\n",
    "cur = con.cursor()\n",
    "cur.execute('''CREATE TABLE IF NOT EXISTS students\n",
    "             (id INTEGER PRIMARY KEY AUTOINCREMENT,\n",
    "              name TEXT NOT NULL,\n",
    "              age INTEGER NOT NULL,\n",
    "              grade TEXT NOT NULL)''')\n",
    "\n",
    "def add_student(name, age, grade):\n",
    "    cur.execute(\"INSERT INTO students (name, age, grade) VALUES (?, ?, ?)\", (name, age, grade))\n",
    "    con.commit()\n",
    "\n",
    "while True:\n",
    "    name = input(\"Enter student's name: \")\n",
    "    age = int(input(\"Enter student's age: \"))      \n",
    "    grade = input(\"Enter student's grade: \")\n",
    "    add_student(name, age, grade)\n",
    "    continue_input = input(\"Do you want to add another student? (yes/no): \")\n",
    "    if continue_input.lower() != 'yes':\n",
    "        break\n",
    "con.close()"
   ]
  },
  {
   "cell_type": "code",
   "execution_count": 10,
   "metadata": {},
   "outputs": [
    {
     "name": "stdout",
     "output_type": "stream",
     "text": [
      "All Students:\n",
      "(1, 'Alireza', 14, '20')\n",
      "(2, 'Amir', 14, '20')\n",
      "(3, 'Hesam', 9, '14')\n",
      "\n",
      "Students with grades higher than 15:\n",
      "(1, 'Alireza', 14, '20')\n",
      "(2, 'Amir', 14, '20')\n"
     ]
    }
   ],
   "source": [
    "#3\n",
    "import sqlite3\n",
    "con = sqlite3.connect('Student.db')\n",
    "cur = con.cursor()\n",
    "def print_all_students():\n",
    "    cur.execute(\"SELECT * FROM students\")\n",
    "    rows = cur.fetchall()\n",
    "    print(\"All Students:\")\n",
    "    for row in rows:\n",
    "        print(row)\n",
    "def print_high_achieving_students():\n",
    "    cur.execute(\"SELECT * FROM students WHERE grade > 15\")\n",
    "    rows = cur.fetchall()\n",
    "    print(\"\\nStudents with grades higher than 15:\")\n",
    "    for row in rows:\n",
    "        print(row)\n",
    "print_all_students()\n",
    "print_high_achieving_students()\n",
    "con.close()"
   ]
  },
  {
   "cell_type": "code",
   "execution_count": 28,
   "metadata": {},
   "outputs": [
    {
     "name": "stdout",
     "output_type": "stream",
     "text": [
      "Student's grade has been successfully updated.\n"
     ]
    }
   ],
   "source": [
    "#4\n",
    "import sqlite3\n",
    "con = sqlite3.connect('Student.db')\n",
    "cur = con.cursor()\n",
    "def update_grade_students (student_id , new_grade) :\n",
    "    cur.execute(\"UPDATE students SET grade =? WHERE id = ? \" , (new_grade , student_id) )\n",
    "    con.commit()\n",
    "    print(\"Student's grade has been successfully updated.\")\n",
    "student_id = int(input(\"Enter student's id: \"))\n",
    "new_grade = input(\"Enter the new grade: \")\n",
    "update_grade_students(student_id , new_grade)\n",
    "con.close()"
   ]
  },
  {
   "cell_type": "code",
   "execution_count": 23,
   "metadata": {},
   "outputs": [
    {
     "name": "stdout",
     "output_type": "stream",
     "text": [
      "Student's has been successfully deleted.\n"
     ]
    }
   ],
   "source": [
    "#5\n",
    "import sqlite3\n",
    "con = sqlite3.connect('Student.db')\n",
    "cur = con.cursor()\n",
    "def delete_student (student_id) :\n",
    "    cur.execute(\"DELETE FROM students WHERE id = ? \" , (student_id,) )\n",
    "    con.commit()\n",
    "    print(\"Student's has been successfully deleted.\")\n",
    "student_id = int(input(\"Enter student's id: \"))\n",
    "delete_student(student_id)\n",
    "con.close()"
   ]
  },
  {
   "cell_type": "code",
   "execution_count": 26,
   "metadata": {},
   "outputs": [
    {
     "name": "stdout",
     "output_type": "stream",
     "text": [
      "Search Results:\n",
      "(2, 'Amir', 14, '20')\n"
     ]
    }
   ],
   "source": [
    "#6\n",
    "import sqlite3\n",
    "con = sqlite3.connect('Student.db')\n",
    "cur = con.cursor()\n",
    "def search_students(name):\n",
    "     cur.execute(\"SELECT * FROM students WHERE name LIKE ?\", ('%' + name + '%',))\n",
    "     rows = cur.fetchall()\n",
    "     if rows:\n",
    "        print(\"Search Results:\")\n",
    "        for row in rows:\n",
    "           print(row)\n",
    "     else:\n",
    "        print(\"No students found with that name.\")\n",
    "\n",
    "search_name = input(\"Enter student's name to search: \")\n",
    "search_students(search_name)\n",
    "con.close()"
   ]
  },
  {
   "cell_type": "code",
   "execution_count": 29,
   "metadata": {},
   "outputs": [
    {
     "name": "stdout",
     "output_type": "stream",
     "text": [
      "The average grade of all students is: 20.00\n"
     ]
    }
   ],
   "source": [
    "#7\n",
    "import sqlite3\n",
    "con = sqlite3.connect('Student.db')\n",
    "cur = con.cursor()\n",
    "def calculate_average_grade():\n",
    "     cur.execute(\"SELECT AVG(grade) FROM students\")\n",
    "     avg_grade = cur.fetchone()[0]\n",
    "     if avg_grade is not None:\n",
    "        print(f\"The average grade of all students is: {avg_grade:.2f}\")\n",
    "     else:\n",
    "        print(\"No grades found in the database.\")\n",
    "calculate_average_grade()\n",
    "con.close()"
   ]
  }
 ],
 "metadata": {
  "kernelspec": {
   "display_name": "Python 3",
   "language": "python",
   "name": "python3"
  },
  "language_info": {
   "codemirror_mode": {
    "name": "ipython",
    "version": 3
   },
   "file_extension": ".py",
   "mimetype": "text/x-python",
   "name": "python",
   "nbconvert_exporter": "python",
   "pygments_lexer": "ipython3",
   "version": "3.12.5"
  }
 },
 "nbformat": 4,
 "nbformat_minor": 2
}
