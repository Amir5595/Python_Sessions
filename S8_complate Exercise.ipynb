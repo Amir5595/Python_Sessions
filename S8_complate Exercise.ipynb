{
 "cells": [
  {
   "cell_type": "code",
   "execution_count": null,
   "metadata": {},
   "outputs": [],
   "source": [
    "# 1\n",
    "List_1 = [1,3,5,4,88,4]\n",
    "def replase (lst) :\n",
    "    return lst[::-1]\n",
    "\n",
    "replase(List_1)"
   ]
  },
  {
   "cell_type": "code",
   "execution_count": 13,
   "metadata": {},
   "outputs": [
    {
     "name": "stdout",
     "output_type": "stream",
     "text": [
      "The largest amount is : 13\n"
     ]
    }
   ],
   "source": [
    "# 2\n",
    "List1 = [1,2,5,4,8,'Amir Mohammad']\n",
    "def Maxi (lst) :\n",
    "    max_value = 0\n",
    "    for item in lst :\n",
    "       if isinstance(item,int) :\n",
    "           if item > max_value :\n",
    "               max_value = item\n",
    "       elif isinstance(item,str) :\n",
    "           if len(item) > max_value :\n",
    "               max_value = len(item)  \n",
    "    print(f'The largest amount is : {max_value}') \n",
    "Maxi(List1)"
   ]
  },
  {
   "cell_type": "code",
   "execution_count": 31,
   "metadata": {},
   "outputs": [
    {
     "name": "stdout",
     "output_type": "stream",
     "text": [
      "Your license has been revoked\n",
      "-17\n"
     ]
    }
   ],
   "source": [
    "# 3\n",
    "def sorat (a) :\n",
    "    sorat_mojaz = 70\n",
    "    driver_grade = 0\n",
    "    if a < sorat_mojaz :\n",
    "        print('good')\n",
    "    else :\n",
    "        b = a - sorat_mojaz\n",
    "        b = b // 5\n",
    "        driver_grade = driver_grade - b\n",
    "        if driver_grade < -12  :\n",
    "           print('Your license has been revoked')\n",
    "    print(driver_grade)\n",
    "sorat(155)\n"
   ]
  },
  {
   "cell_type": "code",
   "execution_count": null,
   "metadata": {},
   "outputs": [],
   "source": [
    "# 4"
   ]
  },
  {
   "cell_type": "code",
   "execution_count": null,
   "metadata": {},
   "outputs": [],
   "source": [
    "# 5"
   ]
  },
  {
   "cell_type": "code",
   "execution_count": null,
   "metadata": {},
   "outputs": [],
   "source": [
    "# 6"
   ]
  },
  {
   "cell_type": "code",
   "execution_count": null,
   "metadata": {},
   "outputs": [
    {
     "name": "stdout",
     "output_type": "stream",
     "text": [
      "{20: 'x', 30: 'AM', 50: 'RT'}\n"
     ]
    }
   ],
   "source": [
    "# 7\n",
    "dict_1 = {'x' : 20 , 'AM' : 30 , 'RT' : 50}\n",
    "\n",
    "def dit (dict) :\n",
    "    dict_2 = {value : key for key,value in dict.items()}\n",
    "    print (dict_2)\n",
    "dit(dict_1)\n"
   ]
  }
 ],
 "metadata": {
  "kernelspec": {
   "display_name": "Python 3",
   "language": "python",
   "name": "python3"
  },
  "language_info": {
   "codemirror_mode": {
    "name": "ipython",
    "version": 3
   },
   "file_extension": ".py",
   "mimetype": "text/x-python",
   "name": "python",
   "nbconvert_exporter": "python",
   "pygments_lexer": "ipython3",
   "version": "3.12.5"
  }
 },
 "nbformat": 4,
 "nbformat_minor": 2
}
