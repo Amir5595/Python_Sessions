{
 "cells": [
  {
   "cell_type": "code",
   "execution_count": null,
   "metadata": {},
   "outputs": [],
   "source": [
    "# 1\n",
    "from jdatetime import datetime as jTime\n",
    "\n",
    "bd = input('plaes enter your bd : in this format -> yy/mm/dd')\n",
    "bd = jTime.strftime(bd,'%y/%m/%d')\n",
    "now = jTime.now()\n",
    "(now - bd).days\n"
   ]
  },
  {
   "cell_type": "code",
   "execution_count": null,
   "metadata": {},
   "outputs": [],
   "source": [
    "# 2\n",
    "result = []\n",
    "for i in range (0,51) :\n",
    "    if i % 2 == 1 :\n",
    "        result.append(i)\n",
    "        if i % 3 == 0 or i % 5 == 0:\n",
    "               result.append(i)\n",
    "print(result)"
   ]
  },
  {
   "cell_type": "code",
   "execution_count": null,
   "metadata": {},
   "outputs": [],
   "source": [
    "# 3\n",
    "import random \n",
    "a = ['Hello' , 'Yello' , 'Wello' , 'hallo']\n",
    "A = [random.choice(a) for _ in range (100)]\n",
    "for a in A[:] :\n",
    "    if a != 'Hello' :\n",
    "        A.remove(a)\n",
    "A\n"
   ]
  },
  {
   "cell_type": "code",
   "execution_count": 5,
   "metadata": {},
   "outputs": [
    {
     "name": "stdout",
     "output_type": "stream",
     "text": [
      "{'milk': 5, 'suger': 2, 'butter': 10, 'yogurt': 1, 'cheese': 3}\n"
     ]
    }
   ],
   "source": [
    "# 4\n",
    "list_1 = ['milk','suger','butter','yogurt','cheese']\n",
    "list_2 = [5,2,10,1,3]\n",
    "dict_1 = {}\n",
    "\n",
    "b = 0\n",
    "for i in list_1:\n",
    "        dict_1.setdefault(i,list_2[b])\n",
    "        b += 1\n",
    "print(dict_1)"
   ]
  },
  {
   "cell_type": "code",
   "execution_count": null,
   "metadata": {},
   "outputs": [],
   "source": [
    "# 5\n",
    "d = {\"moein\":10,\"ali\":19,\"hasan\":21,\"shahab\":20,\"karim\":29}\n",
    "\n",
    "print(f\"max of values is: {max(d.values())}\\n\",f\"min of values is :{min(d.values())}\")"
   ]
  },
  {
   "cell_type": "markdown",
   "metadata": {},
   "source": []
  },
  {
   "cell_type": "code",
   "execution_count": null,
   "metadata": {},
   "outputs": [],
   "source": [
    "# 6\n",
    "Str_A = input('Enter a Sebtences :')\n",
    "dict_A = {}\n",
    "\n",
    "for i in Str_A.split() :\n",
    "    dict_A[i] = Str_A.count(i)\n",
    " \n",
    "print(dict_A)\n"
   ]
  },
  {
   "cell_type": "code",
   "execution_count": null,
   "metadata": {},
   "outputs": [],
   "source": [
    "# 7\n",
    "d1 = {'a': 100, 'b': 200, 'c':300}\n",
    "d2 = {'a': 300, 'b': 200, 'd':400}\n",
    "d3 = d2.copy()\n",
    "\n",
    "for k in d1 :\n",
    "    if k in d3 :\n",
    "        d3[k] += d1[k]\n",
    "    else :\n",
    "        d3[k] = d1[k]\n",
    "d3"
   ]
  }
 ],
 "metadata": {
  "kernelspec": {
   "display_name": "Python 3",
   "language": "python",
   "name": "python3"
  },
  "language_info": {
   "codemirror_mode": {
    "name": "ipython",
    "version": 3
   },
   "file_extension": ".py",
   "mimetype": "text/x-python",
   "name": "python",
   "nbconvert_exporter": "python",
   "pygments_lexer": "ipython3",
   "version": "3.12.5"
  }
 },
 "nbformat": 4,
 "nbformat_minor": 2
}
